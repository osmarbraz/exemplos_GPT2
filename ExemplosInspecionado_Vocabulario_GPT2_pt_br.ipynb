{
  "nbformat": 4,
  "nbformat_minor": 0,
  "metadata": {
    "colab": {
      "provenance": [],
      "toc_visible": true,
      "include_colab_link": true
    },
    "kernelspec": {
      "name": "python3",
      "display_name": "Python 3"
    }
  },
  "cells": [
    {
      "cell_type": "markdown",
      "metadata": {
        "id": "view-in-github",
        "colab_type": "text"
      },
      "source": [
        "<a href=\"https://colab.research.google.com/github/osmarbraz/exemplos_GPT2/blob/main/ExemplosInspecionado_Vocabulario_GPT2_pt_br.ipynb\" target=\"_parent\"><img src=\"https://colab.research.google.com/assets/colab-badge.svg\" alt=\"Open In Colab\"/></a>"
      ]
    },
    {
      "cell_type": "markdown",
      "metadata": {
        "id": "whjogPl1KL4-"
      },
      "source": [
        "# Inpecionando o Vocabulário do GPT-2 em português(pt-br) usando Transformers by HuggingFace\n",
        "\n",
        "Usando transformers\n",
        "\n",
        "https://huggingface.co/gpt2\n",
        "\n",
        "Modelo pré treinado em português\n",
        "Link dos arquivos do modelo pt-br GPT-2\n",
        "\n",
        "https://huggingface.co/pierreguillou/gpt2-small-portuguese\n",
        "\n",
        "Lista dos modelos\n",
        "\n",
        "https://huggingface.co/models"
      ]
    },
    {
      "cell_type": "markdown",
      "metadata": {
        "id": "sUou4SXfRCxV"
      },
      "source": [
        "## Carrega o modelo"
      ]
    },
    {
      "cell_type": "markdown",
      "metadata": {
        "id": "O0wWu4oEKYtc"
      },
      "source": [
        "Instalando a implementação huggingface do transformers."
      ]
    },
    {
      "cell_type": "code",
      "metadata": {
        "id": "PzCjfNB6jksJ",
        "outputId": "7a2d23d9-de75-4b41-fead-ecec6bc73f96",
        "colab": {
          "base_uri": "https://localhost:8080/"
        }
      },
      "source": [
        "!pip install transformers"
      ],
      "execution_count": null,
      "outputs": [
        {
          "output_type": "stream",
          "name": "stdout",
          "text": [
            "Looking in indexes: https://pypi.org/simple, https://us-python.pkg.dev/colab-wheels/public/simple/\n",
            "Requirement already satisfied: transformers in /usr/local/lib/python3.8/dist-packages (4.24.0)\n",
            "Requirement already satisfied: regex!=2019.12.17 in /usr/local/lib/python3.8/dist-packages (from transformers) (2022.6.2)\n",
            "Requirement already satisfied: filelock in /usr/local/lib/python3.8/dist-packages (from transformers) (3.8.0)\n",
            "Requirement already satisfied: pyyaml>=5.1 in /usr/local/lib/python3.8/dist-packages (from transformers) (6.0)\n",
            "Requirement already satisfied: tokenizers!=0.11.3,<0.14,>=0.11.1 in /usr/local/lib/python3.8/dist-packages (from transformers) (0.13.2)\n",
            "Requirement already satisfied: numpy>=1.17 in /usr/local/lib/python3.8/dist-packages (from transformers) (1.21.6)\n",
            "Requirement already satisfied: huggingface-hub<1.0,>=0.10.0 in /usr/local/lib/python3.8/dist-packages (from transformers) (0.11.1)\n",
            "Requirement already satisfied: tqdm>=4.27 in /usr/local/lib/python3.8/dist-packages (from transformers) (4.64.1)\n",
            "Requirement already satisfied: packaging>=20.0 in /usr/local/lib/python3.8/dist-packages (from transformers) (21.3)\n",
            "Requirement already satisfied: requests in /usr/local/lib/python3.8/dist-packages (from transformers) (2.23.0)\n",
            "Requirement already satisfied: typing-extensions>=3.7.4.3 in /usr/local/lib/python3.8/dist-packages (from huggingface-hub<1.0,>=0.10.0->transformers) (4.1.1)\n",
            "Requirement already satisfied: pyparsing!=3.0.5,>=2.0.2 in /usr/local/lib/python3.8/dist-packages (from packaging>=20.0->transformers) (3.0.9)\n",
            "Requirement already satisfied: idna<3,>=2.5 in /usr/local/lib/python3.8/dist-packages (from requests->transformers) (2.10)\n",
            "Requirement already satisfied: chardet<4,>=3.0.2 in /usr/local/lib/python3.8/dist-packages (from requests->transformers) (3.0.4)\n",
            "Requirement already satisfied: urllib3!=1.25.0,!=1.25.1,<1.26,>=1.21.1 in /usr/local/lib/python3.8/dist-packages (from requests->transformers) (1.24.3)\n",
            "Requirement already satisfied: certifi>=2017.4.17 in /usr/local/lib/python3.8/dist-packages (from requests->transformers) (2022.9.24)\n"
          ]
        }
      ]
    },
    {
      "cell_type": "markdown",
      "metadata": {
        "id": "OzWcQNSORrYC"
      },
      "source": [
        "## Carregando o modelo pré-treinado GPT-2"
      ]
    },
    {
      "cell_type": "markdown",
      "metadata": {
        "id": "stZE-KdbpIti"
      },
      "source": [
        "##### Carregando o GPT-2\n",
        "\n",
        "Carregando o **tokenizador** e **modelo** GPT-2 do diretório '/content/modelo/' do diretório padrão.\n"
      ]
    },
    {
      "cell_type": "code",
      "metadata": {
        "id": "Rbdpa5IzpItj",
        "outputId": "22ad35b3-081c-4700-f3a1-e2340980f367",
        "colab": {
          "base_uri": "https://localhost:8080/"
        }
      },
      "source": [
        "# Importando as bibliotecas do Modelo e do Tokenizador\n",
        "from transformers import GPT2Model, GPT2Tokenizer\n",
        "\n",
        "# Carregando o Tokenizador da comunidade\n",
        "print('Carregando o tokenizador GPT-2 da comunidade...')\n",
        "\n",
        "tokenizer = GPT2Tokenizer.from_pretrained('pierreguillou/gpt2-small-portuguese')  \n",
        "\n",
        "# Carregando o Modelo da comunidade\n",
        "print('Carregando o modelo GPT-2 da comunidade...')\n",
        "\n",
        "model = GPT2Model.from_pretrained('pierreguillou/gpt2-small-portuguese')    "
      ],
      "execution_count": null,
      "outputs": [
        {
          "output_type": "stream",
          "name": "stdout",
          "text": [
            "Carregando o tokenizador GPT-2 da comunidade...\n",
            "Carregando o modelo GPT-2 da comunidade...\n"
          ]
        },
        {
          "output_type": "stream",
          "name": "stderr",
          "text": [
            "Some weights of the model checkpoint at pierreguillou/gpt2-small-portuguese were not used when initializing GPT2Model: ['lm_head.weight']\n",
            "- This IS expected if you are initializing GPT2Model from the checkpoint of a model trained on another task or with another architecture (e.g. initializing a BertForSequenceClassification model from a BertForPreTraining model).\n",
            "- This IS NOT expected if you are initializing GPT2Model from the checkpoint of a model that you expect to be exactly identical (initializing a BertForSequenceClassification model from a BertForSequenceClassification model).\n"
          ]
        }
      ]
    },
    {
      "cell_type": "markdown",
      "metadata": {
        "id": "B8FD0tDpKVBF"
      },
      "source": [
        "## Inspecionando Vocabulário GPT-2\n",
        "--------------------------"
      ]
    },
    {
      "cell_type": "markdown",
      "source": [
        "Tamanho do vocabulário"
      ],
      "metadata": {
        "id": "ZPetY2mF8Ip9"
      }
    },
    {
      "cell_type": "code",
      "source": [
        "print(len(list(tokenizer.encoder.keys())))"
      ],
      "metadata": {
        "colab": {
          "base_uri": "https://localhost:8080/"
        },
        "id": "JWD7L59x8KSf",
        "outputId": "2657da18-df61-4ddb-95a8-ce6d50c07df2"
      },
      "execution_count": null,
      "outputs": [
        {
          "output_type": "stream",
          "name": "stdout",
          "text": [
            "50257\n"
          ]
        }
      ]
    },
    {
      "cell_type": "code",
      "source": [
        "print(tokenizer.vocab_size)"
      ],
      "metadata": {
        "colab": {
          "base_uri": "https://localhost:8080/"
        },
        "id": "l3LxiNF68ODM",
        "outputId": "02e4defb-789e-4dec-a619-7ec72ecfe156"
      },
      "execution_count": null,
      "outputs": [
        {
          "output_type": "stream",
          "name": "stdout",
          "text": [
            "50257\n"
          ]
        }
      ]
    },
    {
      "cell_type": "code",
      "source": [
        "print(tokenizer.vocab_files_names)"
      ],
      "metadata": {
        "colab": {
          "base_uri": "https://localhost:8080/"
        },
        "id": "b9U2tvwe8Spk",
        "outputId": "fcd7d925-44ca-40f4-e5f5-09d07b6c2598"
      },
      "execution_count": null,
      "outputs": [
        {
          "output_type": "stream",
          "name": "stdout",
          "text": [
            "{'vocab_file': 'vocab.json', 'merges_file': 'merges.txt'}\n"
          ]
        }
      ]
    },
    {
      "cell_type": "markdown",
      "metadata": {
        "id": "7UB5FRPOhinf"
      },
      "source": [
        "### Descarregar Vocabulário\n",
        "--------------\n",
        "\n",
        "Recupere a lista inteira de \"tokens\" e escreva em  um arquivo texto para que possamos examiná-los."
      ]
    },
    {
      "cell_type": "code",
      "metadata": {
        "id": "NRf7NXJGgsnG"
      },
      "source": [
        "with open(\"vocabulario.txt\", 'w') as f:\n",
        "    \n",
        "    # Para cada token...    \n",
        "    for token in list(tokenizer.encoder.keys()):\n",
        "        \n",
        "        # Escreve ele na saída com um caracter de escape unicode.            \n",
        "        f.write(token + '\\n')"
      ],
      "execution_count": null,
      "outputs": []
    },
    {
      "cell_type": "markdown",
      "metadata": {
        "id": "c8geTQ3Iidsv"
      },
      "source": [
        "Ao ler o vocabulário, estou vendo o seguinte:\n",
        "\n",
        "* Os primeiros 99 tokens (indexados 1) parecem estar reservados e a maioria possui o formato [unused957].\n",
        "     * 1 - [PAD]\n",
        "     * 101 - [UNK]\n",
        "     * 102 - [CLS]\n",
        "     * 103 - [SEP]\n",
        "     * 104 - [MÁSCARA]\n",
        "* As linhas 22279-29794 parecem ser um despejo de caracteres individuais.\n",
        "     * Eles não parecem ser classificados por frequência (por exemplo, as letras do alfabeto não estão todas em sequência).\n",
        "* A primeira palavra é \"de\" na posição 126.\n",
        "     * A partir daí, as palavras parecem ser classificadas por frequência.\n",
        "     * As ~ 18 palavras principais são palavras inteiras e o número 2016 é ##s, presumivelmente a subpalavra mais comum.\n",
        "     * A última palavra inteira é 22278, \"Minnes\"\n",
        "\n",
        "Algumas inclusões engraçadas:\n",
        "* Abdul\n",
        "* baga\n"
      ]
    },
    {
      "cell_type": "markdown",
      "metadata": {
        "id": "uviYdpTZYMmd"
      },
      "source": [
        "### Characteres único\n",
        "---------------------"
      ]
    },
    {
      "cell_type": "markdown",
      "metadata": {
        "id": "Bu-KbpbR1L4q"
      },
      "source": [
        "O código a seguir imprime todos os tokens de caracteres únicos no vocabulário, bem como todos os tokens de caracteres únicos precedidos por '##'.\n",
        "\n",
        "Acontece que esses são conjuntos correspondentes conjunto--para de cada caractere independente também há uma versão '##'. Existem 997 tokens de caractere único."
      ]
    },
    {
      "cell_type": "markdown",
      "metadata": {
        "id": "Q6ysF8LD1fbl"
      },
      "source": [
        "A célula a seguir itera sobre o vocabulário, guardando todos os tokens de caractere único."
      ]
    },
    {
      "cell_type": "code",
      "metadata": {
        "id": "YHpH2NEPy3t9",
        "outputId": "8046792d-52b6-4e09-e106-c1a53ef95f06",
        "colab": {
          "base_uri": "https://localhost:8080/"
        }
      },
      "source": [
        "one_chars = []\n",
        "one_chars_hashes = []\n",
        "\n",
        "# Para cada token no vocabulário...\n",
        "for token in list(tokenizer.encoder.keys()):\n",
        "        \n",
        "    # Grava qualquer token com um simples caracter.\n",
        "    if len(token) == 1:\n",
        "        one_chars.append(token)\n",
        "        \n",
        "    # Grava tokens de caractere único precedidos de dois hash.    \n",
        "    elif len(token) == 3 and token[0:2] == '##':\n",
        "        one_chars_hashes.append(token)\n",
        "\n",
        "print(len(one_chars))\n",
        "print(len(one_chars_hashes))"
      ],
      "execution_count": null,
      "outputs": [
        {
          "output_type": "stream",
          "name": "stdout",
          "text": [
            "256\n",
            "0\n"
          ]
        }
      ]
    },
    {
      "cell_type": "code",
      "metadata": {
        "id": "jCzfsjHrzZYn",
        "outputId": "3e4deb24-bf9d-4ae2-858a-0d3c9e5d5612",
        "colab": {
          "base_uri": "https://localhost:8080/"
        }
      },
      "source": [
        "print('Número de tokens de um único caractere:', len(one_chars), '\\n')\n",
        "\n",
        "# Imprime todos os caracteres únicos, 40 por linha.\n",
        "\n",
        "# Para cada batch de 40 tokens...\n",
        "for i in range(0, len(one_chars), 40):\n",
        "        \n",
        "    # Limita o índice final para que não ultrapassem o final da lista.\n",
        "    end = min(i + 40, len(one_chars) + 1)\n",
        "        \n",
        "    # Imprime os tokens, separados por um espaço\n",
        "    print(' '.join(one_chars[i:end]))"
      ],
      "execution_count": null,
      "outputs": [
        {
          "output_type": "stream",
          "name": "stdout",
          "text": [
            "Número de tokens de um único caractere: 256 \n",
            "\n",
            "! \" # $ % & ' ( ) * + , - . / 0 1 2 3 4 5 6 7 8 9 : ; < = > ? @ A B C D E F G H\n",
            "I J K L M N O P Q R S T U V W X Y Z [ \\ ] ^ _ ` a b c d e f g h i j k l m n o p\n",
            "q r s t u v w x y z { | } ~ ¡ ¢ £ ¤ ¥ ¦ § ¨ © ª « ¬ ® ¯ ° ± ² ³ ´ µ ¶ · ¸ ¹ º »\n",
            "¼ ½ ¾ ¿ À Á Â Ã Ä Å Æ Ç È É Ê Ë Ì Í Î Ï Ð Ñ Ò Ó Ô Õ Ö × Ø Ù Ú Û Ü Ý Þ ß à á â ã\n",
            "ä å æ ç è é ê ë ì í î ï ð ñ ò ó ô õ ö ÷ ø ù ú û ü ý þ ÿ Ā ā Ă ă Ą ą Ć ć Ĉ ĉ Ċ ċ\n",
            "Č č Ď ď Đ đ Ē ē Ĕ ĕ Ė ė Ę ę Ě ě Ĝ ĝ Ğ ğ Ġ ġ Ģ ģ Ĥ ĥ Ħ ħ Ĩ ĩ Ī ī Ĭ ĭ Į į İ ı Ĳ ĳ\n",
            "Ĵ ĵ Ķ ķ ĸ Ĺ ĺ Ļ ļ Ľ ľ Ŀ ŀ Ł ł Ń\n"
          ]
        }
      ]
    },
    {
      "cell_type": "code",
      "metadata": {
        "id": "62MD-M1N0R-W",
        "outputId": "c89c6a49-45a3-4f73-bfec-dda7c1216848",
        "colab": {
          "base_uri": "https://localhost:8080/"
        }
      },
      "source": [
        "print('Número de tokens de um único caractere com hashes:', len(one_chars_hashes), '\\n')\n",
        "\n",
        "# Imprime todos os caracteres únicos, 40 por linha.\n",
        "\n",
        "# Remova as marcas de hash, uma vez que elas apenas bagunçam a tela.\n",
        "tokens = [token.replace('##', '') for token in one_chars_hashes]\n",
        "\n",
        "# Para cada batch de 40 tokens...\n",
        "for i in range(0, len(tokens), 40):\n",
        "    \n",
        "    # Limita o índice final para que não ultrapassem o final da lista.\n",
        "    end = min(i + 40, len(tokens) + 1)\n",
        "    \n",
        "    # Imprime os tokens, separados por um espaço\n",
        "    print(' '.join(tokens[i:end]))"
      ],
      "execution_count": null,
      "outputs": [
        {
          "output_type": "stream",
          "name": "stdout",
          "text": [
            "Número de tokens de um único caractere com hashes: 0 \n",
            "\n"
          ]
        }
      ]
    },
    {
      "cell_type": "code",
      "metadata": {
        "id": "u-TFrVP9005S",
        "outputId": "16946192-3c99-408b-a501-8b4779614a61",
        "colab": {
          "base_uri": "https://localhost:8080/"
        }
      },
      "source": [
        "print('Are the two sets identical?', set(one_chars) == set(tokens))"
      ],
      "execution_count": null,
      "outputs": [
        {
          "output_type": "stream",
          "name": "stdout",
          "text": [
            "Are the two sets identical? False\n"
          ]
        }
      ]
    },
    {
      "cell_type": "markdown",
      "metadata": {
        "id": "uPnW2RetYc97"
      },
      "source": [
        "### Subpalavras vs. palavras inteiras\n",
        "\n",
        "Vamos reunir algumas estatísticas sobre o vocabulário.\n",
        "\n"
      ]
    },
    {
      "cell_type": "code",
      "metadata": {
        "id": "LjvrWcNTdkAW",
        "outputId": "5cabaa56-ed32-49b3-b9bb-957000089e14",
        "colab": {
          "base_uri": "https://localhost:8080/",
          "height": 445
        }
      },
      "source": [
        "import matplotlib.pyplot as plt\n",
        "import seaborn as sns\n",
        "import numpy as np\n",
        "\n",
        "sns.set(style='darkgrid')\n",
        "\n",
        "# Aumente o tamanho do gráfico e o tamanho da fonte.\n",
        "sns.set(font_scale=1.5)\n",
        "plt.rcParams[\"figure.figsize\"] = (10,5)\n",
        "\n",
        "# Medida do comprimento de cada token no vocabulário.\n",
        "token_lengths = [len(token) for token in list(tokenizer.encoder.keys())]\n",
        "\n",
        "# Plota o número de tokens pr cada tamanho.\n",
        "sns.countplot(token_lengths)\n",
        "plt.title('Comprimento dos tokens do vocabulário')\n",
        "plt.xlabel('Comprimento dos tokens')\n",
        "plt.ylabel('# de tokens')\n",
        "\n",
        "print('Maximum token length:', max(token_lengths))"
      ],
      "execution_count": null,
      "outputs": [
        {
          "output_type": "stream",
          "name": "stderr",
          "text": [
            "/usr/local/lib/python3.8/dist-packages/seaborn/_decorators.py:36: FutureWarning: Pass the following variable as a keyword arg: x. From version 0.12, the only valid positional argument will be `data`, and passing other arguments without an explicit keyword will result in an error or misinterpretation.\n",
            "  warnings.warn(\n"
          ]
        },
        {
          "output_type": "stream",
          "name": "stdout",
          "text": [
            "Maximum token length: 24\n"
          ]
        },
        {
          "output_type": "display_data",
          "data": {
            "text/plain": [
              "<Figure size 720x360 with 1 Axes>"
            ],
            "image/png": "[encoded data removed]"
          },
          "metadata": {}
        }
      ]
    },
    {
      "cell_type": "markdown",
      "metadata": {
        "id": "QQ8YUh75Usqj"
      },
      "source": [
        "Vamos olhar somente os tokens que começam com '##'."
      ]
    },
    {
      "cell_type": "code",
      "metadata": {
        "id": "69Vf46p-Ym97"
      },
      "source": [
        "num_subwords = 0\n",
        "\n",
        "subword_lengths = []\n",
        "\n",
        "# Para cada token no vocabulário ...\n",
        "for token in list(tokenizer.encoder.keys()):\n",
        "    \n",
        "    # Se ela tem uma subpalavra...\n",
        "    if len(token) >= 2 and token[0:2] == '##':\n",
        "        \n",
        "        # Conta todas as subpalavras\n",
        "        num_subwords += 1\n",
        "\n",
        "        # Medida do comprimento da subpalavra (sem os hashes)\n",
        "        length = len(token) - 2\n",
        "\n",
        "        # Registra o tamanho.        \n",
        "        subword_lengths.append(length)\n"
      ],
      "execution_count": null,
      "outputs": []
    },
    {
      "cell_type": "markdown",
      "metadata": {
        "id": "gCDYsO8qyepC"
      },
      "source": [
        "### Erros ortográficos"
      ]
    },
    {
      "cell_type": "code",
      "metadata": {
        "id": "p-n_ObF14sh3",
        "outputId": "af545d41-81a9-49ef-a12e-0f00fb5c0454",
        "colab": {
          "base_uri": "https://localhost:8080/"
        }
      },
      "source": [
        "'crescer' in list(tokenizer.encoder.keys()) # Correto"
      ],
      "execution_count": null,
      "outputs": [
        {
          "output_type": "execute_result",
          "data": {
            "text/plain": [
              "False"
            ]
          },
          "metadata": {},
          "execution_count": 13
        }
      ]
    },
    {
      "cell_type": "code",
      "metadata": {
        "id": "FnUu6C_VjTVQ",
        "outputId": "c1b89a3d-ef52-4816-ff92-bba4af363be2",
        "colab": {
          "base_uri": "https://localhost:8080/"
        }
      },
      "source": [
        "'crecer' in list(tokenizer.encoder.keys()) # Errado"
      ],
      "execution_count": null,
      "outputs": [
        {
          "output_type": "execute_result",
          "data": {
            "text/plain": [
              "False"
            ]
          },
          "metadata": {},
          "execution_count": 14
        }
      ]
    },
    {
      "cell_type": "code",
      "metadata": {
        "id": "GrKICg1y45Rz",
        "outputId": "3ed64e27-9fc0-4176-98a0-71015925fac6",
        "colab": {
          "base_uri": "https://localhost:8080/"
        }
      },
      "source": [
        "'governo' in list(tokenizer.encoder.keys()) # Correto"
      ],
      "execution_count": null,
      "outputs": [
        {
          "output_type": "execute_result",
          "data": {
            "text/plain": [
              "True"
            ]
          },
          "metadata": {},
          "execution_count": 15
        }
      ]
    },
    {
      "cell_type": "code",
      "metadata": {
        "id": "fO72IlrU5I8t",
        "outputId": "c3e1f8a6-fb18-4af8-9212-f7a0ba54aed4",
        "colab": {
          "base_uri": "https://localhost:8080/"
        }
      },
      "source": [
        "'gorverno' in list(tokenizer.encoder.keys()) # Errado"
      ],
      "execution_count": null,
      "outputs": [
        {
          "output_type": "execute_result",
          "data": {
            "text/plain": [
              "False"
            ]
          },
          "metadata": {},
          "execution_count": 16
        }
      ]
    },
    {
      "cell_type": "code",
      "metadata": {
        "id": "FfqU2qbpjubX",
        "outputId": "fc08f723-cf4c-4938-c48d-52a8a0dbb8bd",
        "colab": {
          "base_uri": "https://localhost:8080/"
        }
      },
      "source": [
        "'inicio' in list(tokenizer.encoder.keys()) # Correto"
      ],
      "execution_count": null,
      "outputs": [
        {
          "output_type": "execute_result",
          "data": {
            "text/plain": [
              "False"
            ]
          },
          "metadata": {},
          "execution_count": 17
        }
      ]
    },
    {
      "cell_type": "code",
      "metadata": {
        "id": "Cvzy-sMsjs5P",
        "outputId": "ccf84503-b5a7-4cf7-f755-30b3d20d0ba5",
        "colab": {
          "base_uri": "https://localhost:8080/"
        }
      },
      "source": [
        "'inisio' in list(tokenizer.encoder.keys()) # Errado"
      ],
      "execution_count": null,
      "outputs": [
        {
          "output_type": "execute_result",
          "data": {
            "text/plain": [
              "False"
            ]
          },
          "metadata": {},
          "execution_count": 18
        }
      ]
    },
    {
      "cell_type": "code",
      "metadata": {
        "id": "WkqxG-675A1c",
        "outputId": "3d0f069a-b7fc-4540-c2db-7d1ee672f283",
        "colab": {
          "base_uri": "https://localhost:8080/"
        }
      },
      "source": [
        "'separado' in list(tokenizer.encoder.keys()) # Correto"
      ],
      "execution_count": null,
      "outputs": [
        {
          "output_type": "execute_result",
          "data": {
            "text/plain": [
              "False"
            ]
          },
          "metadata": {},
          "execution_count": 19
        }
      ]
    },
    {
      "cell_type": "code",
      "metadata": {
        "id": "ziFBjur15GHg",
        "outputId": "7536f48f-3070-4149-d7c1-84d2f2359938",
        "colab": {
          "base_uri": "https://localhost:8080/"
        }
      },
      "source": [
        "'seperado' in list(tokenizer.encoder.keys()) # Errado"
      ],
      "execution_count": null,
      "outputs": [
        {
          "output_type": "execute_result",
          "data": {
            "text/plain": [
              "False"
            ]
          },
          "metadata": {},
          "execution_count": 20
        }
      ]
    },
    {
      "cell_type": "markdown",
      "metadata": {
        "id": "-KZHPgVsSgvz"
      },
      "source": [
        "E as contrações?"
      ]
    },
    {
      "cell_type": "code",
      "metadata": {
        "id": "VvUru5j3jxm2",
        "outputId": "5247af4d-230f-4571-fe41-c1af140ccdd4",
        "colab": {
          "base_uri": "https://localhost:8080/"
        }
      },
      "source": [
        "\"você\" in list(tokenizer.encoder.keys()) # Correto"
      ],
      "execution_count": null,
      "outputs": [
        {
          "output_type": "execute_result",
          "data": {
            "text/plain": [
              "False"
            ]
          },
          "metadata": {},
          "execution_count": 21
        }
      ]
    },
    {
      "cell_type": "code",
      "metadata": {
        "id": "wl_l2xKwj0_l",
        "outputId": "52fb56a3-e67b-4385-f0a1-f45bdac6fd9e",
        "colab": {
          "base_uri": "https://localhost:8080/"
        }
      },
      "source": [
        "\"vc\" in list(tokenizer.encoder.keys()) # Errado"
      ],
      "execution_count": null,
      "outputs": [
        {
          "output_type": "execute_result",
          "data": {
            "text/plain": [
              "False"
            ]
          },
          "metadata": {},
          "execution_count": 22
        }
      ]
    },
    {
      "cell_type": "markdown",
      "metadata": {
        "id": "RE4TqKOlykJD"
      },
      "source": [
        "### Início versus subpalavras médias\n",
        "\n",
        "Para caracteres únicos, existe o caractere individual e a versão '##' para cada caractere. O mesmo vale para subpalavras?"
      ]
    },
    {
      "cell_type": "code",
      "metadata": {
        "id": "_Xf9FH7HWZya"
      },
      "source": [
        "# Para cada token no vocabulário...\n",
        "for token in list(tokenizer.encoder.keys()):\n",
        "    # Se ela é uma subpalavras...\n",
        "    if len(token) >= 2 and token[0:2] == '##':\n",
        "        if not token[2:] in tokenizer.vocab:\n",
        "            print('Did not find a token for', token[2:])\n",
        "            break"
      ],
      "execution_count": null,
      "outputs": []
    },
    {
      "cell_type": "code",
      "metadata": {
        "id": "0rPGb9z8SmYn",
        "outputId": "4ba117bd-db5f-459c-9b09-644edac49c86",
        "colab": {
          "base_uri": "https://localhost:8080/"
        }
      },
      "source": [
        "'##te' in list(tokenizer.encoder.keys())"
      ],
      "execution_count": null,
      "outputs": [
        {
          "output_type": "execute_result",
          "data": {
            "text/plain": [
              "False"
            ]
          },
          "metadata": {},
          "execution_count": 24
        }
      ]
    },
    {
      "cell_type": "code",
      "metadata": {
        "id": "wUmQwKqfWx9K",
        "outputId": "5490c246-a742-4298-e289-1bd47284cf9d",
        "colab": {
          "base_uri": "https://localhost:8080/"
        }
      },
      "source": [
        "'te' in list(tokenizer.encoder.keys())"
      ],
      "execution_count": null,
      "outputs": [
        {
          "output_type": "execute_result",
          "data": {
            "text/plain": [
              "True"
            ]
          },
          "metadata": {},
          "execution_count": 25
        }
      ]
    },
    {
      "cell_type": "markdown",
      "metadata": {
        "id": "PRaaspCfyqsY"
      },
      "source": [
        "### Nomes\n",
        "\n"
      ]
    },
    {
      "cell_type": "code",
      "metadata": {
        "id": "s7OLeBs_zBiR",
        "outputId": "f69d2bd1-3a86-47d4-99cf-ef06be3a1967",
        "colab": {
          "base_uri": "https://localhost:8080/"
        }
      },
      "source": [
        "!pip install wget"
      ],
      "execution_count": null,
      "outputs": [
        {
          "output_type": "stream",
          "name": "stdout",
          "text": [
            "Looking in indexes: https://pypi.org/simple, https://us-python.pkg.dev/colab-wheels/public/simple/\n",
            "Requirement already satisfied: wget in /usr/local/lib/python3.8/dist-packages (3.2)\n"
          ]
        }
      ]
    },
    {
      "cell_type": "code",
      "metadata": {
        "id": "9Mac6NiYys4g",
        "outputId": "9af7ddce-595b-4b5f-f611-317c34728f3d",
        "colab": {
          "base_uri": "https://localhost:8080/",
          "height": 53
        }
      },
      "source": [
        "import wget\n",
        "import random \n",
        "\n",
        "print('Beginning file download with wget module')\n",
        "\n",
        "url = 'http://www.gutenberg.org/files/3201/files/NAMES.TXT'\n",
        "wget.download(url, 'first-names.txt')\n"
      ],
      "execution_count": null,
      "outputs": [
        {
          "output_type": "stream",
          "name": "stdout",
          "text": [
            "Beginning file download with wget module\n"
          ]
        },
        {
          "output_type": "execute_result",
          "data": {
            "text/plain": [
              "'first-names (2).txt'"
            ],
            "application/vnd.google.colaboratory.intrinsic+json": {
              "type": "string"
            }
          },
          "metadata": {},
          "execution_count": 27
        }
      ]
    },
    {
      "cell_type": "code",
      "metadata": {
        "id": "FHF1JgrqY7Zi",
        "outputId": "a9948e73-c014-4671-b492-7df6a61fe29c",
        "colab": {
          "base_uri": "https://localhost:8080/"
        }
      },
      "source": [
        "# Leia-os no.\n",
        "with open('first-names.txt', 'rb') as f:\n",
        "    names_encoded = f.readlines()\n",
        "\n",
        "names = []\n",
        "\n",
        "# Decodifique os nomes, converta em minúsculas e retire as novas linhas.\n",
        "for name in names_encoded:\n",
        "    try:\n",
        "        names.append(name.rstrip().lower().decode('utf-8'))\n",
        "    except:\n",
        "        continue\n",
        "\n",
        "print('Número de nomes: {:,}'.format(len(names)))\n",
        "print('Exemplo:', random.choice(names))\n"
      ],
      "execution_count": null,
      "outputs": [
        {
          "output_type": "stream",
          "name": "stdout",
          "text": [
            "Número de nomes: 21,985\n",
            "Exemplo: caro\n"
          ]
        }
      ]
    },
    {
      "cell_type": "code",
      "metadata": {
        "id": "6heL05KQzmCa",
        "outputId": "04c4460d-6e40-414b-d459-a2bdf4217134",
        "colab": {
          "base_uri": "https://localhost:8080/"
        }
      },
      "source": [
        "num_names = 0\n",
        "\n",
        "# Para cada nome da lista...\n",
        "for name in names:\n",
        "\n",
        "    # Se ela está no vocabulário...\n",
        "    if name in list(tokenizer.encoder.keys()):\n",
        "        # Conta ela.\n",
        "        num_names += 1\n",
        "\n",
        "print('{:,} nomes no vocabulário'.format(num_names))"
      ],
      "execution_count": null,
      "outputs": [
        {
          "output_type": "stream",
          "name": "stdout",
          "text": [
            "1,075 nomes no vocabulário\n"
          ]
        }
      ]
    },
    {
      "cell_type": "markdown",
      "metadata": {
        "id": "BM99iB36RAxX"
      },
      "source": [
        "**Mais pesquisa**\n",
        "\n",
        "* Adicione nomes mais modernos\n",
        "     * Este repositório / arquivo contém alguns nomes mais modernos. O download do arquivo não está funcionando, no entanto.\n",
        "     * `https://raw.githubusercontent.com/arineng/arincli/master/lib/nome-do-primeiro-nome.txt'\n",
        "\n",
        "* Adicione nomes comuns de outros idiomas.\n"
      ]
    },
    {
      "cell_type": "markdown",
      "metadata": {
        "id": "3HGvwsy0ynkq"
      },
      "source": [
        "### Números"
      ]
    },
    {
      "cell_type": "code",
      "metadata": {
        "id": "h5T_-gfQZKm6",
        "outputId": "e71964ff-4f34-483f-826c-2efbc20c8a43",
        "colab": {
          "base_uri": "https://localhost:8080/"
        }
      },
      "source": [
        "# Conte quantos números existem no vocabulário.\n",
        "count = 0\n",
        "\n",
        "# Para cada token no vocabulário...\n",
        "for token in list(tokenizer.encoder.keys()):\n",
        "\n",
        "    # Conta ele é um número.\n",
        "    if token.isdigit():\n",
        "        count += 1\n",
        "        \n",
        "        # Qualquer número >= 10,000?\n",
        "        if len(token) > 4:\n",
        "            print(token)\n",
        "\n",
        "print('Vocabulário incluí {:,} números.'.format(count))"
      ],
      "execution_count": null,
      "outputs": [
        {
          "output_type": "stream",
          "name": "stdout",
          "text": [
            "Vocabulário incluí 325 números.\n"
          ]
        }
      ]
    },
    {
      "cell_type": "code",
      "metadata": {
        "id": "-M1biDEVYjaL",
        "outputId": "c8daa3aa-bf6c-4b72-d7d8-26dda332d9a6",
        "colab": {
          "base_uri": "https://localhost:8080/"
        }
      },
      "source": [
        "# Conta quantas datas entre 1600 e 2021 estão incluídas.\n",
        "count = 0 \n",
        "for i in range(1600, 2021):\n",
        "    if str(i) in list(tokenizer.encoder.keys()):\n",
        "        count += 1\n",
        "\n",
        "print('Vocabulário inclui {:,} de 421 datas de 1600 - 2021'.format(count))"
      ],
      "execution_count": null,
      "outputs": [
        {
          "output_type": "stream",
          "name": "stdout",
          "text": [
            "Vocabulário inclui 149 de 421 datas de 1600 - 2021\n"
          ]
        }
      ]
    }
  ]
}